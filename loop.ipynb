{
 "cells": [
  {
   "cell_type": "code",
   "execution_count": 1,
   "id": "4ea0c0af-9404-4b76-91cf-a57b2ec03fbd",
   "metadata": {
    "tags": []
   },
   "outputs": [
    {
     "name": "stdout",
     "output_type": "stream",
     "text": [
      "kuldeep\n",
      "abhay\n",
      "anil\n",
      "dileep\n",
      "Do something\n"
     ]
    }
   ],
   "source": [
    "l = [\"kuldeep\",\"abhay\", \"anil\",\"dileep\"]\n",
    "\n",
    "for i in l:\n",
    "    print(i)\n",
    "else:\n",
    "    print(\"Do something\")"
   ]
  },
  {
   "cell_type": "code",
   "execution_count": 2,
   "id": "59b68b8c-ae09-4543-ae5e-f78ccbb31339",
   "metadata": {
    "tags": []
   },
   "outputs": [
    {
     "data": {
      "text/plain": [
       "['kuldeep', 'abhay', 'anil', 'dileep']"
      ]
     },
     "execution_count": 2,
     "metadata": {},
     "output_type": "execute_result"
    }
   ],
   "source": [
    "l"
   ]
  },
  {
   "cell_type": "code",
   "execution_count": 4,
   "id": "48cc8a3a-0698-44f8-abc4-b8cd461fd359",
   "metadata": {
    "tags": []
   },
   "outputs": [],
   "source": [
    "for i in l:\n",
    "    if i ==\"abhay\":\n",
    "        break\n",
    "        print(i)\n",
    "else:\n",
    "    print(\"excute this if for loop is able to complete itself \")\n",
    "        "
   ]
  },
  {
   "cell_type": "code",
   "execution_count": 5,
   "id": "117afc06-12ab-4895-960a-72ab19583e24",
   "metadata": {
    "tags": []
   },
   "outputs": [
    {
     "data": {
      "text/plain": [
       "['kuldeep', 'abhay', 'anil', 'dileep']"
      ]
     },
     "execution_count": 5,
     "metadata": {},
     "output_type": "execute_result"
    }
   ],
   "source": [
    "l"
   ]
  },
  {
   "cell_type": "code",
   "execution_count": 6,
   "id": "f7f65bf8-8945-480f-97b4-fdf875d4dcc1",
   "metadata": {
    "tags": []
   },
   "outputs": [],
   "source": [
    "l1 = [\"kuldeep\",\"abhay\", \"anil\",\"dileep\"]"
   ]
  },
  {
   "cell_type": "code",
   "execution_count": 7,
   "id": "f8a994ad-397a-45f2-aad1-217207ae521f",
   "metadata": {
    "tags": []
   },
   "outputs": [
    {
     "data": {
      "text/plain": [
       "['kuldeep', 'abhay', 'anil', 'dileep']"
      ]
     },
     "execution_count": 7,
     "metadata": {},
     "output_type": "execute_result"
    }
   ],
   "source": [
    "l"
   ]
  },
  {
   "cell_type": "code",
   "execution_count": 8,
   "id": "a2af35e2-dee4-4311-8a01-df8a58340503",
   "metadata": {
    "tags": []
   },
   "outputs": [],
   "source": [
    "l1 = [\"kuldeep\",\"abhay\", \"anil\",\"dileep\"]"
   ]
  },
  {
   "cell_type": "code",
   "execution_count": 9,
   "id": "286ddf5e-3d0c-49ee-b743-1bb7f482a05a",
   "metadata": {
    "tags": []
   },
   "outputs": [
    {
     "name": "stdout",
     "output_type": "stream",
     "text": [
      "kuldeep\n",
      "anil\n",
      "dileep\n",
      "excute this if for loop is able to complete itself \n"
     ]
    }
   ],
   "source": [
    "for i in l1:\n",
    "    if i ==\"abhay\":\n",
    "        continue\n",
    "    print(i)\n",
    "else:\n",
    "    print(\"excute this if for loop is able to complete itself \")"
   ]
  },
  {
   "cell_type": "code",
   "execution_count": 10,
   "id": "ebca90d3-b9f9-4c2d-a36c-25fde344a13d",
   "metadata": {
    "tags": []
   },
   "outputs": [
    {
     "data": {
      "text/plain": [
       "range(0, 6)"
      ]
     },
     "execution_count": 10,
     "metadata": {},
     "output_type": "execute_result"
    }
   ],
   "source": [
    "range(6)"
   ]
  },
  {
   "cell_type": "code",
   "execution_count": 11,
   "id": "13b5e615-451a-40ec-83bc-304ce36c17bc",
   "metadata": {
    "tags": []
   },
   "outputs": [
    {
     "data": {
      "text/plain": [
       "[0, 1, 2, 3, 4, 5]"
      ]
     },
     "execution_count": 11,
     "metadata": {},
     "output_type": "execute_result"
    }
   ],
   "source": [
    "list(range(6))"
   ]
  },
  {
   "cell_type": "code",
   "execution_count": 12,
   "id": "6c329403-b79f-4d61-bd8e-54ef75800af9",
   "metadata": {
    "tags": []
   },
   "outputs": [
    {
     "data": {
      "text/plain": [
       "[0, 1, 2, 3, 4, 5]"
      ]
     },
     "execution_count": 12,
     "metadata": {},
     "output_type": "execute_result"
    }
   ],
   "source": [
    "list(range(0,6,1))"
   ]
  },
  {
   "cell_type": "code",
   "execution_count": 13,
   "id": "44f71484-67eb-400d-853c-e6f5dd6d407a",
   "metadata": {
    "tags": []
   },
   "outputs": [
    {
     "data": {
      "text/plain": [
       "[0, 2, 4, 6, 8, 10, 12, 14, 16, 18]"
      ]
     },
     "execution_count": 13,
     "metadata": {},
     "output_type": "execute_result"
    }
   ],
   "source": [
    "list(range(0,20,2))"
   ]
  },
  {
   "cell_type": "code",
   "execution_count": 14,
   "id": "37224c41-bb23-416a-a1e8-de8fc8e94b26",
   "metadata": {
    "tags": []
   },
   "outputs": [
    {
     "data": {
      "text/plain": [
       "[0, 3, 6, 9, 12, 15, 18]"
      ]
     },
     "execution_count": 14,
     "metadata": {},
     "output_type": "execute_result"
    }
   ],
   "source": [
    "list(range(0,20,3))"
   ]
  },
  {
   "cell_type": "code",
   "execution_count": 15,
   "id": "36f3230e-83fa-4dcf-aafe-2f69ffc4439c",
   "metadata": {
    "tags": []
   },
   "outputs": [
    {
     "data": {
      "text/plain": [
       "[-10, -9, -8, -7, -6, -5, -4, -3, -2, -1]"
      ]
     },
     "execution_count": 15,
     "metadata": {},
     "output_type": "execute_result"
    }
   ],
   "source": [
    "list(range(-10,0))"
   ]
  },
  {
   "cell_type": "code",
   "execution_count": 16,
   "id": "2c9bf7da-e419-4562-bcff-09728caeb647",
   "metadata": {
    "tags": []
   },
   "outputs": [
    {
     "data": {
      "text/plain": [
       "4"
      ]
     },
     "execution_count": 16,
     "metadata": {},
     "output_type": "execute_result"
    }
   ],
   "source": [
    "len(l)"
   ]
  },
  {
   "cell_type": "code",
   "execution_count": 17,
   "id": "656377ad-5ec5-47df-be59-cbc7f61dd0b5",
   "metadata": {
    "tags": []
   },
   "outputs": [
    {
     "data": {
      "text/plain": [
       "[0, 1, 2, 3]"
      ]
     },
     "execution_count": 17,
     "metadata": {},
     "output_type": "execute_result"
    }
   ],
   "source": [
    " list(range(len(l)))"
   ]
  },
  {
   "cell_type": "code",
   "execution_count": 18,
   "id": "a9dd04b2-8c41-43ae-a0f0-2e00adb02d2f",
   "metadata": {
    "tags": []
   },
   "outputs": [
    {
     "name": "stdout",
     "output_type": "stream",
     "text": [
      "kuldeep\n",
      "abhay\n",
      "anil\n",
      "dileep\n"
     ]
    }
   ],
   "source": [
    "for i in range(len(l)):\n",
    "    print(l[i])"
   ]
  },
  {
   "cell_type": "code",
   "execution_count": 19,
   "id": "3ca77a0a-733e-4efd-b1c9-5c6edb2b091b",
   "metadata": {
    "tags": []
   },
   "outputs": [
    {
     "data": {
      "text/plain": [
       "[3, 2, 1, 0]"
      ]
     },
     "execution_count": 19,
     "metadata": {},
     "output_type": "execute_result"
    }
   ],
   "source": [
    "list(range(len(l)-1,-1,-1))"
   ]
  },
  {
   "cell_type": "code",
   "execution_count": 20,
   "id": "95881a1c-30f1-4660-88b7-bff83e288b9b",
   "metadata": {
    "tags": []
   },
   "outputs": [
    {
     "name": "stdout",
     "output_type": "stream",
     "text": [
      "dileep\n",
      "anil\n",
      "abhay\n",
      "kuldeep\n"
     ]
    }
   ],
   "source": [
    "for i in range(len(l)-1,-1,-1):\n",
    "    print(l[i])"
   ]
  },
  {
   "cell_type": "code",
   "execution_count": 21,
   "id": "5a140f71-3252-4c81-834e-784034757c79",
   "metadata": {
    "tags": []
   },
   "outputs": [
    {
     "name": "stdout",
     "output_type": "stream",
     "text": [
      "dileep\n",
      "anil\n",
      "abhay\n",
      "kuldeep\n"
     ]
    }
   ],
   "source": [
    "for i in [3, 2, 1, 0]:\n",
    "    print(l[i])"
   ]
  },
  {
   "cell_type": "code",
   "execution_count": 22,
   "id": "b9eaf010-ba01-4a28-915e-7c9bf4a18c49",
   "metadata": {
    "tags": []
   },
   "outputs": [],
   "source": [
    "l2 = [23,5,45,56,6,67,67,78,87,98,2349]"
   ]
  },
  {
   "cell_type": "code",
   "execution_count": 23,
   "id": "26ce9580-5bf5-4c76-90bf-1d0d067face6",
   "metadata": {
    "tags": []
   },
   "outputs": [
    {
     "data": {
      "text/plain": [
       "[0, 2, 4, 6, 8, 10]"
      ]
     },
     "execution_count": 23,
     "metadata": {},
     "output_type": "execute_result"
    }
   ],
   "source": [
    "list(range(0,len(l2),2))"
   ]
  },
  {
   "cell_type": "code",
   "execution_count": 24,
   "id": "c180ed84-08c3-44fa-98c4-34b594d23fe7",
   "metadata": {
    "tags": []
   },
   "outputs": [
    {
     "name": "stdout",
     "output_type": "stream",
     "text": [
      "23\n",
      "45\n",
      "6\n",
      "67\n",
      "87\n",
      "2349\n"
     ]
    }
   ],
   "source": [
    "for i in range(0,len(l2),2):\n",
    "    print(l2[i])"
   ]
  },
  {
   "cell_type": "code",
   "execution_count": 25,
   "id": "9816811b-fbec-4a40-920e-f1ad2d764ac8",
   "metadata": {
    "tags": []
   },
   "outputs": [
    {
     "data": {
      "text/plain": [
       "23"
      ]
     },
     "execution_count": 25,
     "metadata": {},
     "output_type": "execute_result"
    }
   ],
   "source": [
    "l2[0]"
   ]
  },
  {
   "cell_type": "code",
   "execution_count": 26,
   "id": "35ea68c4-7386-4c38-bc5e-a3b3f4ccfefb",
   "metadata": {
    "tags": []
   },
   "outputs": [
    {
     "data": {
      "text/plain": [
       "134"
      ]
     },
     "execution_count": 26,
     "metadata": {},
     "output_type": "execute_result"
    }
   ],
   "source": [
    "l= [1,2,3,4,5,6,7,8,98]\n",
    "sum=0\n",
    "for i in l:\n",
    "      sum = sum+i\n",
    "sum"
   ]
  },
  {
   "cell_type": "code",
   "execution_count": 27,
   "id": "17f2c7c7-cda6-4d2a-876c-f2520798c04b",
   "metadata": {
    "tags": []
   },
   "outputs": [
    {
     "data": {
      "text/plain": [
       "357"
      ]
     },
     "execution_count": 27,
     "metadata": {},
     "output_type": "execute_result"
    }
   ],
   "source": [
    "t = l= (1,34,56,79,89,98)\n",
    "result =0\n",
    "for i in l:\n",
    "    result = result +i\n",
    "result\n"
   ]
  },
  {
   "cell_type": "code",
   "execution_count": 28,
   "id": "00c6d365-ee50-404c-8ce8-95c0b1ef11a9",
   "metadata": {
    "tags": []
   },
   "outputs": [
    {
     "name": "stdout",
     "output_type": "stream",
     "text": [
      "1\n",
      "2\n",
      "3\n",
      "4\n",
      "5\n",
      "himanshi\n",
      "kuldeep\n"
     ]
    }
   ],
   "source": [
    "s= {1,2,3,4,5, \"kuldeep\", \"himanshi\"}\n",
    "for i in s:\n",
    "    print(i)"
   ]
  },
  {
   "cell_type": "code",
   "execution_count": 29,
   "id": "7a90526a-2c42-4841-93b6-ec4b9b2f433a",
   "metadata": {
    "tags": []
   },
   "outputs": [
    {
     "name": "stdout",
     "output_type": "stream",
     "text": [
      "k\n",
      "u\n",
      "l\n",
      "d\n",
      "e\n",
      "e\n",
      "p\n",
      " \n",
      "k\n",
      "u\n",
      "m\n",
      "a\n",
      "r\n"
     ]
    }
   ],
   "source": [
    "str = \"kuldeep kumar\"\n",
    "for i in str:\n",
    "    print(i)"
   ]
  },
  {
   "cell_type": "code",
   "execution_count": 30,
   "id": "b488f4d6-7e72-42c7-b07f-98f55ca30f9a",
   "metadata": {
    "tags": []
   },
   "outputs": [],
   "source": [
    "d = {\"Name\" : \"Kuldeep\", \"class\" : \"Data science masters\" ,\"topic\" : [\"python\",\"statics\",\"machine learning\", \"Artificial Intelligence\", \"DL\",\"CV\",\"NLP\",\"Resume\",\"Interview\"]}"
   ]
  },
  {
   "cell_type": "code",
   "execution_count": 31,
   "id": "2a32eeb3-444e-4285-ad3c-72078544daa0",
   "metadata": {
    "tags": []
   },
   "outputs": [
    {
     "data": {
      "text/plain": [
       "{'Name': 'Kuldeep',\n",
       " 'class': 'Data science masters',\n",
       " 'topic': ['python',\n",
       "  'statics',\n",
       "  'machine learning',\n",
       "  'Artificial Intelligence',\n",
       "  'DL',\n",
       "  'CV',\n",
       "  'NLP',\n",
       "  'Resume',\n",
       "  'Interview']}"
      ]
     },
     "execution_count": 31,
     "metadata": {},
     "output_type": "execute_result"
    }
   ],
   "source": [
    "d"
   ]
  },
  {
   "cell_type": "code",
   "execution_count": 32,
   "id": "365d1dcd-5fbd-4827-a4e2-ce4f81b6472c",
   "metadata": {
    "tags": []
   },
   "outputs": [
    {
     "data": {
      "text/plain": [
       "'Kuldeep'"
      ]
     },
     "execution_count": 32,
     "metadata": {},
     "output_type": "execute_result"
    }
   ],
   "source": [
    "d [\"Name\"]"
   ]
  },
  {
   "cell_type": "code",
   "execution_count": 33,
   "id": "fad944d2-9342-412f-b926-9bd4067373db",
   "metadata": {
    "tags": []
   },
   "outputs": [
    {
     "data": {
      "text/plain": [
       "'Data science masters'"
      ]
     },
     "execution_count": 33,
     "metadata": {},
     "output_type": "execute_result"
    }
   ],
   "source": [
    "d[\"class\"]"
   ]
  },
  {
   "cell_type": "code",
   "execution_count": 34,
   "id": "2fc65400-84d7-4c88-9f2f-6facac9f7901",
   "metadata": {
    "tags": []
   },
   "outputs": [
    {
     "data": {
      "text/plain": [
       "dict_keys(['Name', 'class', 'topic'])"
      ]
     },
     "execution_count": 34,
     "metadata": {},
     "output_type": "execute_result"
    }
   ],
   "source": [
    "d.keys()"
   ]
  },
  {
   "cell_type": "code",
   "execution_count": 35,
   "id": "27669f53-7197-4639-8349-788645db91ea",
   "metadata": {
    "tags": []
   },
   "outputs": [
    {
     "name": "stdout",
     "output_type": "stream",
     "text": [
      "Kuldeep\n",
      "Data science masters\n",
      "['python', 'statics', 'machine learning', 'Artificial Intelligence', 'DL', 'CV', 'NLP', 'Resume', 'Interview']\n"
     ]
    }
   ],
   "source": [
    "for i in d.keys():\n",
    "    print(d[i]) "
   ]
  },
  {
   "cell_type": "code",
   "execution_count": 36,
   "id": "f7352ef2-5316-4f9d-8cf7-c9b8e246a3d4",
   "metadata": {
    "tags": []
   },
   "outputs": [
    {
     "data": {
      "text/plain": [
       "dict_values(['Kuldeep', 'Data science masters', ['python', 'statics', 'machine learning', 'Artificial Intelligence', 'DL', 'CV', 'NLP', 'Resume', 'Interview']])"
      ]
     },
     "execution_count": 36,
     "metadata": {},
     "output_type": "execute_result"
    }
   ],
   "source": [
    "d.values()"
   ]
  },
  {
   "cell_type": "code",
   "execution_count": 37,
   "id": "057efb79-59ab-4f64-ba82-3488578122b3",
   "metadata": {
    "tags": []
   },
   "outputs": [
    {
     "name": "stdout",
     "output_type": "stream",
     "text": [
      "Kuldeep\n",
      "Data science masters\n",
      "['python', 'statics', 'machine learning', 'Artificial Intelligence', 'DL', 'CV', 'NLP', 'Resume', 'Interview']\n"
     ]
    }
   ],
   "source": [
    "for i in d.values():\n",
    "    print(i)"
   ]
  },
  {
   "cell_type": "code",
   "execution_count": 38,
   "id": "cded2ef7-8a2b-46fe-b361-b6270f826c57",
   "metadata": {
    "tags": []
   },
   "outputs": [
    {
     "data": {
      "text/plain": [
       "dict_items([('Name', 'Kuldeep'), ('class', 'Data science masters'), ('topic', ['python', 'statics', 'machine learning', 'Artificial Intelligence', 'DL', 'CV', 'NLP', 'Resume', 'Interview'])])"
      ]
     },
     "execution_count": 38,
     "metadata": {},
     "output_type": "execute_result"
    }
   ],
   "source": [
    "d.items()"
   ]
  },
  {
   "cell_type": "code",
   "execution_count": 39,
   "id": "92ffd5be-7fae-4525-ab0d-3cef5bb40432",
   "metadata": {
    "tags": []
   },
   "outputs": [
    {
     "name": "stdout",
     "output_type": "stream",
     "text": [
      "('Name', 'Kuldeep')\n",
      "('class', 'Data science masters')\n",
      "('topic', ['python', 'statics', 'machine learning', 'Artificial Intelligence', 'DL', 'CV', 'NLP', 'Resume', 'Interview'])\n"
     ]
    }
   ],
   "source": [
    "for i in d.items():\n",
    "    print(i)"
   ]
  },
  {
   "cell_type": "code",
   "execution_count": null,
   "id": "080e7096-9bf0-4d98-a8f3-37862ae0e592",
   "metadata": {},
   "outputs": [],
   "source": []
  }
 ],
 "metadata": {
  "kernelspec": {
   "display_name": "Python 3 (ipykernel)",
   "language": "python",
   "name": "python3"
  },
  "language_info": {
   "codemirror_mode": {
    "name": "ipython",
    "version": 3
   },
   "file_extension": ".py",
   "mimetype": "text/x-python",
   "name": "python",
   "nbconvert_exporter": "python",
   "pygments_lexer": "ipython3",
   "version": "3.11.5"
  }
 },
 "nbformat": 4,
 "nbformat_minor": 5
}
